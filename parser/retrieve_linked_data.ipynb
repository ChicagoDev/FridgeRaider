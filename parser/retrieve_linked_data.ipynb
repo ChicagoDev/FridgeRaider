{
 "cells": [
  {
   "cell_type": "code",
   "execution_count": 1,
   "metadata": {
    "pycharm": {
     "is_executing": false
    }
   },
   "outputs": [],
   "source": [
    "from pyld import jsonld\n",
    "import json\n",
    "from bs4 import BeautifulSoup\n",
    "import requests\n",
    "\n",
    "# Load a website into Beautiful Soup\n",
    "recipe_website = requests.get('https://www.bonappetit.com/recipe/spicy-chicken-lettuce-wraps')\n",
    "recipe_html = recipe_website.text\n",
    "recipe_bs4 = BeautifulSoup(recipe_html)\n",
    "#jsonld.expand()\n",
    "\n"
   ]
  },
  {
   "cell_type": "code",
   "execution_count": 2,
   "metadata": {
    "pycharm": {
     "is_executing": false,
     "name": "#%%\n"
    }
   },
   "outputs": [
    {
     "data": {
      "text/plain": [
       "1"
      ]
     },
     "execution_count": 2,
     "metadata": {},
     "output_type": "execute_result"
    }
   ],
   "source": [
    "len(recipe_bs4.find_all('script', attrs={\"type\": \"application/ld+json\"}))\n"
   ]
  },
  {
   "cell_type": "code",
   "execution_count": 15,
   "metadata": {
    "pycharm": {
     "is_executing": false,
     "name": "#%%\n"
    }
   },
   "outputs": [],
   "source": [
    "# Exctract the JSON Linked-Data Portion of the webpage\n",
    "# DataType here is a BS4 tag object\n",
    "linked_data_tag = recipe_bs4.find_all('script', attrs={\"type\": \"application/ld+json\"}, limit=1)\n",
    "ld_text = linked_data_tag[0].text\n"
   ]
  },
  {
   "cell_type": "code",
   "execution_count": 16,
   "metadata": {
    "pycharm": {
     "is_executing": false,
     "name": "#%%\n"
    }
   },
   "outputs": [
    {
     "name": "stdout",
     "output_type": "stream",
     "text": [
      "\n",
      "      {\n",
      "        \"@context\": \"http://schema.org\"\n",
      "        ,\"@type\": \"Recipe\"\n",
      "        ,\"name\": \"Spicy Chicken Lettuce Wraps\"\n",
      "        ,\"image\": \"https://assets.bonappetit.com/photos/5ce2b03a81c2de4247a92c3e/16:9/w_1000,c_limit/spicy-chicken-lettuce-wraps.jpg\"\n",
      "        ,\"author\": {\n",
      "          \"@type\": \"Person\"\n",
      "          ,\"name\": \"Christina Chaey\"\n",
      "        }\n",
      "        ,\"publisher\": {\"@type\":\"Organization\",\"name\":\"Bon Appétit\",\"logo\":{\"@type\":\"ImageObject\",\"url\":\"https://www.bonappetit.com/images/logo-foodculture-tablet@1x.png\",\"width\":322,\"height\":56}}\n",
      "        ,\"datePublished\": \"2019-05-21T06:00:00.000-04:00\"\n",
      "        ,\"dateCreated\": \"2019-07-29T21:04:00.000-04:00\"\n",
      "        ,\"description\": \"Low investment and high reward, this not-so-traditional larb is the unofficial late-night meal of much of the BA staff.\"\n",
      "        ,\"aggregateRating\": {\"@type\": \"AggregateRating\", \"ratingValue\": \"4.67\", \"reviewCount\": \"11\"}\n",
      "        ,\"recipeYield\": \"2 servings\"\n",
      "        ,\"recipeIngredient\": [\n",
      "          \"2 Tbsp. soy sauce\",\"1 Tbsp. dark brown sugar\",\"1 tsp. fish sauce\",\"1 Tbsp. sambal oelek or Sriracha, plus more for serving\",\"2 Tbsp. vegetable oil\",\"3 scallions, white and pale green parts only, thinly sliced\",\"2 garlic cloves, finely chopped\",\"1 lb. ground chicken\",\"Kosher salt\",\"Bibb lettuce leaves, lime wedges, and tender herbs (for serving)\"\n",
      "        ]\n",
      "        ,\"recipeInstructions\": [\n",
      "          {\"@type\":\"HowToStep\",\"text\":\"Mix soy sauce, brown sugar, fish sauce, and 1 Tbsp. sambal oelek in a small bowl; set aside.\"},{\"@type\":\"HowToStep\",\"text\":\"Heat oil in a skillet over medium. Add scallions and garlic and cook, stirring occasionally, until softened (a little color is okay), about 3 minutes. Add chicken and lightly season with salt. Cook, breaking up with a wooden spoon and tossing occasionally, until chicken is cooked through, 5–7 minutes. Add reserved soy sauce mixture and cook, tossing occasionally, until liquid is almost completely reduced, about 2 minutes.\"},{\"@type\":\"HowToStep\",\"text\":\"Serve chicken mixture with lettuce, herbs, lime wedges, and more sambal oelek for making lettuce wraps.\"}\n",
      "        ]\n",
      "        ,\"nutrition\": \"\"\n",
      "      }\n",
      "    \n"
     ]
    }
   ],
   "source": [
    "# The JSON-LinkedData Text\n",
    "print(ld_text)"
   ]
  },
  {
   "cell_type": "code",
   "execution_count": 22,
   "metadata": {
    "pycharm": {
     "name": "#%%\n"
    }
   },
   "outputs": [],
   "source": [
    "from pyld import jsonld\n",
    "import json\n",
    "from bs4 import BeautifulSoup\n",
    "import requests\n",
    "\n",
    "def get_ld(url):\n",
    "    \n",
    "    try:\n",
    "        website = requests.get(url)\n",
    "        html = website.text\n",
    "        soup = BeautifulSoup(html)\n",
    "    \n",
    "        linked_data_tag = soup.find_all('script', attrs={\"type\": \"application/ld+json\"}, limit=1)\n",
    "        ld_text = linked_data_tag[0].text\n",
    "    \n",
    "        return ld_text\n",
    "    \n",
    "    except:\n",
    "        raise Exception('Error while Retrieving and Parsing JSON-LD')\n"
   ]
  },
  {
   "cell_type": "code",
   "execution_count": 23,
   "metadata": {},
   "outputs": [
    {
     "name": "stdout",
     "output_type": "stream",
     "text": [
      "{\"@context\":\"https://schema.org\",\"@graph\":[{\"@type\":\"Organization\",\"@id\":\"https://joyfoodsunshine.com/#organization\",\"name\":\"JoyFoodSunshine\",\"url\":\"https://joyfoodsunshine.com/\",\"sameAs\":[\"https://www.facebook.com/joyfoodsunshine/\",\"https://www.instagram.com/joyfoodsunshine/\",\"https://www.pinterest.com/joyfoodsunshine/\",\"https://twitter.com/joyfoodsunshine\"],\"logo\":{\"@type\":\"ImageObject\",\"@id\":\"https://joyfoodsunshine.com/#logo\",\"url\":\"https://joyfoodsunshine.com/wp-content/uploads/2017/01/NewLogo.png\",\"width\":1958,\"height\":733,\"caption\":\"JoyFoodSunshine\"},\"image\":{\"@id\":\"https://joyfoodsunshine.com/#logo\"}},{\"@type\":\"WebSite\",\"@id\":\"https://joyfoodsunshine.com/#website\",\"url\":\"https://joyfoodsunshine.com/\",\"name\":\"JoyFoodSunshine\",\"publisher\":{\"@id\":\"https://joyfoodsunshine.com/#organization\"},\"potentialAction\":{\"@type\":\"SearchAction\",\"target\":\"https://joyfoodsunshine.com/?s={search_term_string}\",\"query-input\":\"required name=search_term_string\"}},{\"@type\":\"ImageObject\",\"@id\":\"https://joyfoodsunshine.com/the-most-amazing-chocolate-chip-cookies/#primaryimage\",\"url\":\"https://joyfoodsunshine.com/wp-content/uploads/2016/01/best-chocolate-chip-cookies-recipe-ever-no-chilling-1-e1549147195343.jpg\",\"width\":680,\"height\":680},{\"@type\":\"WebPage\",\"@id\":\"https://joyfoodsunshine.com/the-most-amazing-chocolate-chip-cookies/#webpage\",\"url\":\"https://joyfoodsunshine.com/the-most-amazing-chocolate-chip-cookies/\",\"inLanguage\":\"en-US\",\"name\":\"The Best Chocolate Chip Cookie Recipe Ever - JoyFoodSunshine\",\"isPartOf\":{\"@id\":\"https://joyfoodsunshine.com/#website\"},\"primaryImageOfPage\":{\"@id\":\"https://joyfoodsunshine.com/the-most-amazing-chocolate-chip-cookies/#primaryimage\"},\"datePublished\":\"2018-02-11T11:00:40+00:00\",\"dateModified\":\"2019-07-21T13:33:53+00:00\",\"description\":\"This is the best chocolate chip cookie recipe ever. No funny ingredients, no chilling time, etc. Just a simple, straightforward, amazingly delicious, doughy yet still fully cooked, chocolate chip cookie that turns out perfectly every single time!\"},{\"@type\":\"Article\",\"@id\":\"https://joyfoodsunshine.com/the-most-amazing-chocolate-chip-cookies/#article\",\"isPartOf\":{\"@id\":\"https://joyfoodsunshine.com/the-most-amazing-chocolate-chip-cookies/#webpage\"},\"author\":{\"@id\":\"https://joyfoodsunshine.com/#/schema/person/891477a0746b50003444540bc1f82de3\"},\"headline\":\"The Best Chocolate Chip Cookie Recipe Ever\",\"datePublished\":\"2018-02-11T11:00:40+00:00\",\"dateModified\":\"2019-07-21T13:33:53+00:00\",\"commentCount\":\"518\",\"publisher\":{\"@id\":\"https://joyfoodsunshine.com/#organization\"},\"image\":{\"@id\":\"https://joyfoodsunshine.com/the-most-amazing-chocolate-chip-cookies/#primaryimage\"},\"keywords\":\"chocolate,cookies,dessert,easy\",\"articleSection\":\"Dessert,Home Slider,Recipes\"},{\"@type\":[\"Person\"],\"@id\":\"https://joyfoodsunshine.com/#/schema/person/891477a0746b50003444540bc1f82de3\",\"name\":\"Laura\",\"sameAs\":[]},{\"@context\":\"http://schema.org/\",\"@type\":\"Recipe\",\"name\":\"The Best Chocolate Chip Cookie Recipe Ever\",\"author\":{\"@type\":\"Person\",\"name\":\"Laura\"},\"description\":\"This is the best chocolate chip cookie recipe ever. No funny ingredients, no chilling time, etc. Just a simple, straightforward, amazingly delicious, doughy yet still fully cooked, chocolate chip cookie that turns out perfectly every single time!&nbsp;\",\"datePublished\":\"2018-02-11T04:00:40+00:00\",\"image\":[\"https://joyfoodsunshine.com/wp-content/uploads/2016/01/best-chocolate-chip-cookies-recipe-ever-no-chilling-1-e1549147195343.jpg\",\"https://joyfoodsunshine.com/wp-content/uploads/2016/01/best-chocolate-chip-cookies-recipe-ever-no-chilling-1-500x500.jpg\",\"https://joyfoodsunshine.com/wp-content/uploads/2016/01/best-chocolate-chip-cookies-recipe-ever-no-chilling-1-500x375.jpg\",\"https://joyfoodsunshine.com/wp-content/uploads/2016/01/best-chocolate-chip-cookies-recipe-ever-no-chilling-1-480x270.jpg\"],\"video\":{\"@id\":\"https://video.mediavine.com/videos/aqyfclirswapsllgquc4\",\"@type\":\"VideoObject\"},\"recipeYield\":\"24 cookies\",\"prepTime\":\"PT10M\",\"cookTime\":\"PT8M\",\"totalTime\":\"PT30M\",\"recipeIngredient\":[\"1 cup salted butter* (softened)\",\"1 cup white (granulated) sugar\",\"1 cup light brown sugar (packed)\",\"2 tsp pure vanilla extract\",\"2 large eggs\",\"3 cups all-purpose flour\",\"1 tsp baking soda\",\"\\u00bd tsp baking powder\",\"1 tsp sea salt***\",\"2 cups chocolate chips ((or chunks, or chopped chocolate))\"],\"recipeInstructions\":[{\"@type\":\"HowToStep\",\"text\":\"Preheat oven to 375 degrees F. Line a baking pan with parchment paper and set aside.\"},{\"@type\":\"HowToStep\",\"text\":\"In a separate bowl mix flour, baking soda, salt, baking powder. Set aside.\"},{\"@type\":\"HowToStep\",\"text\":\"Cream together butter and sugars until combined.\"},{\"@type\":\"HowToStep\",\"text\":\"Beat\\u00a0in eggs and vanilla until fluffy.\"},{\"@type\":\"HowToStep\",\"text\":\"Mix in the dry ingredients until combined.\"},{\"@type\":\"HowToStep\",\"text\":\"Add 12 oz package of chocolate chips and mix well.\"},{\"@type\":\"HowToStep\",\"text\":\"Roll 2-3 TBS (depending on how large you like your cookies) of dough at a time into balls and place them evenly spaced on your prepared cookie sheets. (alternately, use a small cookie scoop to make your cookies)!\"},{\"@type\":\"HowToStep\",\"text\":\"Bake in preheated oven for approximately 8-10\\u00a0minutes. Take them out when they are just BARELY\\u00a0starting to turn brown.\"},{\"@type\":\"HowToStep\",\"text\":\"Let them sit on the baking pan for 2 minutes before removing to cooling rack.\"}],\"recipeCategory\":[\"Dessert\"],\"recipeCuisine\":[\"American\"],\"keywords\":\"best chocolate chip cookies, chocolate chip cookie recipe, chocolate chip cookies no chilling, easy chocolate chip cookie recipe\",\"nutrition\":{\"@type\":\"NutritionInformation\",\"servingSize\":\"1 cookie (using 3 TBS dough)\",\"calories\":\"263.4 kcal\",\"carbohydrateContent\":\"41.2 g\",\"proteinContent\":\"2.7 g\",\"fatContent\":\"12.6 g\",\"cholesterolContent\":\"31.6 mg\",\"fiberContent\":\"1.4 g\",\"sugarContent\":\"25.5 g\"},\"aggregateRating\":{\"@type\":\"AggregateRating\",\"ratingValue\":\"4.71\",\"ratingCount\":\"293\"},\"@id\":\"https://joyfoodsunshine.com/the-most-amazing-chocolate-chip-cookies/#recipe\",\"isPartOf\":{\"@id\":\"https://joyfoodsunshine.com/the-most-amazing-chocolate-chip-cookies/#article\"},\"mainEntityOfPage\":\"https://joyfoodsunshine.com/the-most-amazing-chocolate-chip-cookies/#webpage\"}]}\n"
     ]
    }
   ],
   "source": [
    "print(get_ld('https://joyfoodsunshine.com/the-most-amazing-chocolate-chip-cookies/'))"
   ]
  },
  {
   "cell_type": "code",
   "execution_count": null,
   "metadata": {},
   "outputs": [],
   "source": []
  }
 ],
 "metadata": {
  "kernelspec": {
   "display_name": "Python 3",
   "language": "python",
   "name": "python3"
  },
  "language_info": {
   "codemirror_mode": {
    "name": "ipython",
    "version": 3
   },
   "file_extension": ".py",
   "mimetype": "text/x-python",
   "name": "python",
   "nbconvert_exporter": "python",
   "pygments_lexer": "ipython3",
   "version": "3.7.1"
  },
  "pycharm": {
   "stem_cell": {
    "cell_type": "raw",
    "metadata": {
     "collapsed": false
    },
    "source": []
   }
  },
  "toc": {
   "base_numbering": 1,
   "nav_menu": {},
   "number_sections": true,
   "sideBar": true,
   "skip_h1_title": false,
   "title_cell": "Table of Contents",
   "title_sidebar": "Contents",
   "toc_cell": false,
   "toc_position": {},
   "toc_section_display": true,
   "toc_window_display": false
  },
  "varInspector": {
   "cols": {
    "lenName": 16,
    "lenType": 16,
    "lenVar": 40
   },
   "kernels_config": {
    "python": {
     "delete_cmd_postfix": "",
     "delete_cmd_prefix": "del ",
     "library": "var_list.py",
     "varRefreshCmd": "print(var_dic_list())"
    },
    "r": {
     "delete_cmd_postfix": ") ",
     "delete_cmd_prefix": "rm(",
     "library": "var_list.r",
     "varRefreshCmd": "cat(var_dic_list()) "
    }
   },
   "types_to_exclude": [
    "module",
    "function",
    "builtin_function_or_method",
    "instance",
    "_Feature"
   ],
   "window_display": false
  }
 },
 "nbformat": 4,
 "nbformat_minor": 1
}
